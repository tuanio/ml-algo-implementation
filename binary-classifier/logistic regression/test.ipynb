{
 "cells": [
  {
   "cell_type": "code",
   "execution_count": 27,
   "source": [
    "import numpy as np\n",
    "from logisticregression import LogisticRegression\n",
    "from sklearn.datasets import load_iris\n",
    "from sklearn.model_selection import train_test_split"
   ],
   "outputs": [],
   "metadata": {}
  },
  {
   "cell_type": "code",
   "execution_count": 28,
   "source": [
    "data = load_iris()\n",
    "X = data.data\n",
    "y = data.target"
   ],
   "outputs": [],
   "metadata": {}
  },
  {
   "cell_type": "code",
   "execution_count": 29,
   "source": [
    "X.shape, y.shape"
   ],
   "outputs": [
    {
     "output_type": "execute_result",
     "data": {
      "text/plain": [
       "((100, 2), (100,))"
      ]
     },
     "metadata": {},
     "execution_count": 29
    }
   ],
   "metadata": {}
  },
  {
   "cell_type": "code",
   "execution_count": 30,
   "source": [
    "Xtrain, Xtest, ytrain, ytest = train_test_split(X, y, test_size=1/3, random_state=1)"
   ],
   "outputs": [],
   "metadata": {}
  },
  {
   "cell_type": "code",
   "execution_count": 31,
   "source": [
    "%%time\r\n",
    "\r\n",
    "model = LogisticRegression(n_iter=200, eta=0.0001, random_state=1)\r\n",
    "model.fit(Xtrain, ytrain)"
   ],
   "outputs": [
    {
     "output_type": "stream",
     "name": "stdout",
     "text": [
      "Wall time: 4 ms\n"
     ]
    },
    {
     "output_type": "execute_result",
     "data": {
      "text/plain": [
       "LogisticRegression({'n_iter': 200, 'eta': 0.0001, 'threshold': 0.5, 'random_state': 1, 'rs': RandomState(MT19937) at 0x249D35B7140, 'w': array([ 1.62286608, -0.77019727,  0.30378249])})"
      ]
     },
     "metadata": {},
     "execution_count": 31
    }
   ],
   "metadata": {}
  },
  {
   "cell_type": "code",
   "execution_count": 32,
   "source": [
    "model.score(Xtrain, ytrain)"
   ],
   "outputs": [
    {
     "output_type": "execute_result",
     "data": {
      "text/plain": [
       "0.9848484848484849"
      ]
     },
     "metadata": {},
     "execution_count": 32
    }
   ],
   "metadata": {}
  },
  {
   "cell_type": "code",
   "execution_count": 33,
   "source": [
    "model.score(Xtest, ytest)"
   ],
   "outputs": [
    {
     "output_type": "execute_result",
     "data": {
      "text/plain": [
       "1.0"
      ]
     },
     "metadata": {},
     "execution_count": 33
    }
   ],
   "metadata": {}
  },
  {
   "cell_type": "code",
   "execution_count": 34,
   "source": [
    "def plot_decision_regions(X, y, classifier, resolution=0.02):\r\n",
    "\r\n",
    "  # setup marker generator and color map\r\n",
    "  markers = ('s', 'x', 'o', '^', 'v')\r\n",
    "  colors = ('red', 'blue', 'lightgreen', 'gray', 'cyan')\r\n",
    "  cmap = ListedColormap(colors[:len(np.unique(y))])\r\n",
    "\r\n",
    "  # plot the decision surface\r\n",
    "  x1_min, x1_max = X[:, 0].min() - 1, X[:, 0].max() + 1\r\n",
    "  x2_min, x2_max = X[:, 1].min() - 1, X[:, 1].max() + 1\r\n",
    "  xx1, xx2 = np.meshgrid(np.arange(x1_min, x1_max, resolution), np.arange(x2_min, x2_max, resolution))\r\n",
    "  Z = classifier.predict(np.array([xx1.ravel(), xx2.ravel()]).T)\r\n",
    "  Z = Z.reshape(xx1.shape)\r\n",
    "  plt.contourf(xx1, xx2, Z, alpha=0.3, cmap=cmap)\r\n",
    "  plt.xlim(xx1.min(), xx1.max())\r\n",
    "  plt.ylim(xx2.min(), xx2.max())\r\n",
    "\r\n",
    "  # plot class samples\r\n",
    "  for idx, cl in enumerate(np.unique(y)):\r\n",
    "    plt.scatter(x=X[y == cl, 0], y=X[y == cl, 1], alpha=0.8, c=colors[idx], marker=markers[idx], label=cl, edgecolor='black')"
   ],
   "outputs": [],
   "metadata": {}
  },
  {
   "cell_type": "code",
   "execution_count": 35,
   "source": [
    "plot_decision_regions(X, y, classifier=model)\r\n",
    "plt.show()"
   ],
   "outputs": [
    {
     "output_type": "stream",
     "name": "stderr",
     "text": [
      "<ipython-input-34-63f4c679b521>:20: UserWarning: You passed a edgecolor/edgecolors ('black') for an unfilled marker ('x').  Matplotlib is ignoring the edgecolor in favor of the facecolor.  This behavior may change in the future.\n",
      "  plt.scatter(x=X[y == cl, 0], y=X[y == cl, 1], alpha=0.8, c=colors[idx], marker=markers[idx], label=cl, edgecolor='black')\n"
     ]
    },
    {
     "output_type": "display_data",
     "data": {
      "image/png": "[encoded data removed]",
      "text/plain": [
       "<Figure size 640x480 with 1 Axes>"
      ]
     },
     "metadata": {}
    }
   ],
   "metadata": {}
  }
 ],
 "metadata": {
  "interpreter": {
   "hash": "39b7f98cfec57f12464a7233dfa5cdf7cf64e7adeffe74b0814ccf5a2d8bf160"
  },
  "kernelspec": {
   "display_name": "Python 3",
   "language": "python",
   "name": "python3"
  },
  "language_info": {
   "codemirror_mode": {
    "name": "ipython",
    "version": 3
   },
   "file_extension": ".py",
   "mimetype": "text/x-python",
   "name": "python",
   "nbconvert_exporter": "python",
   "pygments_lexer": "ipython3",
   "version": "3.8.11"
  }
 },
 "nbformat": 4,
 "nbformat_minor": 5
}