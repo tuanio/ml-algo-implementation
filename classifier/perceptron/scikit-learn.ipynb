{
 "cells": [
  {
   "cell_type": "code",
   "execution_count": 2,
   "id": "b72f8ca9-cb2e-491b-8d38-0e8dcb922998",
   "metadata": {
    "execution": {
     "iopub.execute_input": "2021-09-09T04:02:40.677200Z",
     "iopub.status.busy": "2021-09-09T04:02:40.677200Z",
     "iopub.status.idle": "2021-09-09T04:02:40.689577Z",
     "shell.execute_reply": "2021-09-09T04:02:40.688542Z",
     "shell.execute_reply.started": "2021-09-09T04:02:40.677200Z"
    },
    "tags": []
   },
   "outputs": [],
   "source": [
    "from sklearn import datasets\n",
    "import numpy as np"
   ]
  },
  {
   "cell_type": "code",
   "execution_count": 3,
   "id": "88883214-caff-4228-ad64-d5f563baa578",
   "metadata": {
    "execution": {
     "iopub.execute_input": "2021-09-09T04:03:39.628857Z",
     "iopub.status.busy": "2021-09-09T04:03:39.627857Z",
     "iopub.status.idle": "2021-09-09T04:03:39.714105Z",
     "shell.execute_reply": "2021-09-09T04:03:39.713079Z",
     "shell.execute_reply.started": "2021-09-09T04:03:39.628857Z"
    },
    "tags": []
   },
   "outputs": [
    {
     "name": "stdout",
     "output_type": "stream",
     "text": [
      "Class labels: [0 1 2]\n"
     ]
    }
   ],
   "source": [
    "iris = datasets.load_iris()\n",
    "X = iris.data[:, [2, 3]]\n",
    "y = iris.target\n",
    "print('Class labels:', np.unique(y))"
   ]
  },
  {
   "cell_type": "code",
   "execution_count": 4,
   "id": "0d08e1b9-e07a-4ac4-9c48-cf49f268f40c",
   "metadata": {
    "execution": {
     "iopub.execute_input": "2021-09-09T04:06:08.278500Z",
     "iopub.status.busy": "2021-09-09T04:06:08.277436Z",
     "iopub.status.idle": "2021-09-09T04:06:08.372068Z",
     "shell.execute_reply": "2021-09-09T04:06:08.370138Z",
     "shell.execute_reply.started": "2021-09-09T04:06:08.278500Z"
    },
    "tags": []
   },
   "outputs": [],
   "source": [
    "from sklearn.model_selection import train_test_split"
   ]
  },
  {
   "cell_type": "code",
   "execution_count": 5,
   "id": "123fa818-c824-4c17-95b3-4cd7920cdefb",
   "metadata": {
    "execution": {
     "iopub.execute_input": "2021-09-09T04:06:32.730583Z",
     "iopub.status.busy": "2021-09-09T04:06:32.730583Z",
     "iopub.status.idle": "2021-09-09T04:06:32.755233Z",
     "shell.execute_reply": "2021-09-09T04:06:32.754285Z",
     "shell.execute_reply.started": "2021-09-09T04:06:32.730583Z"
    },
    "tags": []
   },
   "outputs": [],
   "source": [
    "X_train, X_test, y_train, y_test = train_test_split(\n",
    "    X, y, test_size=0.3, random_state=1, stratify=y\n",
    ")"
   ]
  },
  {
   "cell_type": "code",
   "execution_count": 6,
   "id": "caa7d09a-bdd6-4581-b6a2-4175afaefa17",
   "metadata": {
    "execution": {
     "iopub.execute_input": "2021-09-09T04:08:45.835306Z",
     "iopub.status.busy": "2021-09-09T04:08:45.835306Z",
     "iopub.status.idle": "2021-09-09T04:08:45.864027Z",
     "shell.execute_reply": "2021-09-09T04:08:45.862999Z",
     "shell.execute_reply.started": "2021-09-09T04:08:45.835306Z"
    },
    "tags": []
   },
   "outputs": [
    {
     "name": "stdout",
     "output_type": "stream",
     "text": [
      "Labels counts in y: [50 50 50]\n"
     ]
    }
   ],
   "source": [
    "print('Labels counts in y:', np.bincount(y))"
   ]
  },
  {
   "cell_type": "code",
   "execution_count": 9,
   "id": "ac42049b-a362-4219-a1d2-1a6873f86326",
   "metadata": {
    "execution": {
     "iopub.execute_input": "2021-09-09T04:09:12.810054Z",
     "iopub.status.busy": "2021-09-09T04:09:12.810054Z",
     "iopub.status.idle": "2021-09-09T04:09:12.828457Z",
     "shell.execute_reply": "2021-09-09T04:09:12.827188Z",
     "shell.execute_reply.started": "2021-09-09T04:09:12.810054Z"
    },
    "tags": []
   },
   "outputs": [
    {
     "name": "stdout",
     "output_type": "stream",
     "text": [
      "Labels counts in y_train: [35 35 35]\n"
     ]
    }
   ],
   "source": [
    "print('Labels counts in y_train:', np.bincount(y_train))"
   ]
  },
  {
   "cell_type": "code",
   "execution_count": 10,
   "id": "b03249a9-a6cb-434b-a49d-753670f9f0bc",
   "metadata": {
    "execution": {
     "iopub.execute_input": "2021-09-09T04:09:28.337117Z",
     "iopub.status.busy": "2021-09-09T04:09:28.336106Z",
     "iopub.status.idle": "2021-09-09T04:09:28.352481Z",
     "shell.execute_reply": "2021-09-09T04:09:28.351480Z",
     "shell.execute_reply.started": "2021-09-09T04:09:28.336106Z"
    },
    "tags": []
   },
   "outputs": [
    {
     "name": "stdout",
     "output_type": "stream",
     "text": [
      "Labels counts in y_test: [15 15 15]\n"
     ]
    }
   ],
   "source": [
    "print('Labels counts in y_test:', np.bincount(y_test))"
   ]
  },
  {
   "cell_type": "code",
   "execution_count": 11,
   "id": "4f6734aa-3dfb-42d9-b055-ee85e9e9d96a",
   "metadata": {
    "execution": {
     "iopub.execute_input": "2021-09-09T04:10:04.240692Z",
     "iopub.status.busy": "2021-09-09T04:10:04.240692Z",
     "iopub.status.idle": "2021-09-09T04:10:04.253038Z",
     "shell.execute_reply": "2021-09-09T04:10:04.252033Z",
     "shell.execute_reply.started": "2021-09-09T04:10:04.240692Z"
    },
    "tags": []
   },
   "outputs": [],
   "source": [
    "from sklearn.preprocessing import StandardScaler"
   ]
  },
  {
   "cell_type": "code",
   "execution_count": 12,
   "id": "11003b5f-d6a5-4db1-b65a-db445964c181",
   "metadata": {
    "execution": {
     "iopub.execute_input": "2021-09-09T04:10:18.726851Z",
     "iopub.status.busy": "2021-09-09T04:10:18.726851Z",
     "iopub.status.idle": "2021-09-09T04:10:18.750000Z",
     "shell.execute_reply": "2021-09-09T04:10:18.749000Z",
     "shell.execute_reply.started": "2021-09-09T04:10:18.726851Z"
    },
    "tags": []
   },
   "outputs": [
    {
     "data": {
      "text/plain": [
       "StandardScaler()"
      ]
     },
     "execution_count": 12,
     "metadata": {},
     "output_type": "execute_result"
    }
   ],
   "source": [
    "sc = StandardScaler()\n",
    "sc.fit(X_train)"
   ]
  },
  {
   "cell_type": "code",
   "execution_count": 13,
   "id": "97f5d6d6-6ecf-43c1-b57c-f127c8c2fcf8",
   "metadata": {
    "execution": {
     "iopub.execute_input": "2021-09-09T04:10:40.942236Z",
     "iopub.status.busy": "2021-09-09T04:10:40.942236Z",
     "iopub.status.idle": "2021-09-09T04:10:40.947294Z",
     "shell.execute_reply": "2021-09-09T04:10:40.946295Z",
     "shell.execute_reply.started": "2021-09-09T04:10:40.942236Z"
    },
    "tags": []
   },
   "outputs": [],
   "source": [
    "X_train_std = sc.transform(X_train)\n",
    "X_test_std = sc.transform(X_test)"
   ]
  },
  {
   "cell_type": "code",
   "execution_count": 18,
   "id": "7ca7caf9-cd90-407e-9e9e-b5e02c64ceeb",
   "metadata": {
    "execution": {
     "iopub.execute_input": "2021-09-09T04:13:06.525221Z",
     "iopub.status.busy": "2021-09-09T04:13:06.525221Z",
     "iopub.status.idle": "2021-09-09T04:13:06.529189Z",
     "shell.execute_reply": "2021-09-09T04:13:06.528197Z",
     "shell.execute_reply.started": "2021-09-09T04:13:06.525221Z"
    },
    "tags": []
   },
   "outputs": [],
   "source": [
    "from sklearn.linear_model import Perceptron"
   ]
  },
  {
   "cell_type": "code",
   "execution_count": 20,
   "id": "2baa2bd9-8fe6-441c-ace3-5ef05efd1db5",
   "metadata": {
    "execution": {
     "iopub.execute_input": "2021-09-09T04:13:40.817333Z",
     "iopub.status.busy": "2021-09-09T04:13:40.817333Z",
     "iopub.status.idle": "2021-09-09T04:13:40.932885Z",
     "shell.execute_reply": "2021-09-09T04:13:40.931935Z",
     "shell.execute_reply.started": "2021-09-09T04:13:40.817333Z"
    },
    "tags": []
   },
   "outputs": [
    {
     "data": {
      "text/plain": [
       "Perceptron(eta0=0.1, max_iter=50, random_state=1)"
      ]
     },
     "execution_count": 20,
     "metadata": {},
     "output_type": "execute_result"
    }
   ],
   "source": [
    "ppn = Perceptron(max_iter=50, eta0=0.1, random_state=1)\n",
    "ppn.fit(X_train_std, y_train)"
   ]
  },
  {
   "cell_type": "code",
   "execution_count": 21,
   "id": "40819228-5cbd-47b8-a236-e15a5e4592a7",
   "metadata": {
    "execution": {
     "iopub.execute_input": "2021-09-09T04:14:54.939039Z",
     "iopub.status.busy": "2021-09-09T04:14:54.939039Z",
     "iopub.status.idle": "2021-09-09T04:14:54.960389Z",
     "shell.execute_reply": "2021-09-09T04:14:54.959404Z",
     "shell.execute_reply.started": "2021-09-09T04:14:54.939039Z"
    },
    "tags": []
   },
   "outputs": [
    {
     "name": "stdout",
     "output_type": "stream",
     "text": [
      "Misclassified samples: 1\n"
     ]
    }
   ],
   "source": [
    "y_pred = ppn.predict(X_test_std)\n",
    "print('Misclassified samples: %d' % (y_test != y_pred).sum())"
   ]
  },
  {
   "cell_type": "code",
   "execution_count": 22,
   "id": "58335502-2630-4d2a-a7a0-b6a03cd3b011",
   "metadata": {
    "execution": {
     "iopub.execute_input": "2021-09-09T04:15:38.870638Z",
     "iopub.status.busy": "2021-09-09T04:15:38.869522Z",
     "iopub.status.idle": "2021-09-09T04:15:38.889588Z",
     "shell.execute_reply": "2021-09-09T04:15:38.888951Z",
     "shell.execute_reply.started": "2021-09-09T04:15:38.870638Z"
    },
    "tags": []
   },
   "outputs": [
    {
     "name": "stdout",
     "output_type": "stream",
     "text": [
      "Accuracy: 0.98\n"
     ]
    }
   ],
   "source": [
    "from sklearn.metrics import accuracy_score\n",
    "print('Accuracy: %.2f' % accuracy_score(y_test, y_pred))"
   ]
  },
  {
   "cell_type": "code",
   "execution_count": 23,
   "id": "ba667bc3-3d7a-4348-b465-c7920f6b26d7",
   "metadata": {
    "execution": {
     "iopub.execute_input": "2021-09-09T04:16:04.427385Z",
     "iopub.status.busy": "2021-09-09T04:16:04.427385Z",
     "iopub.status.idle": "2021-09-09T04:16:04.447006Z",
     "shell.execute_reply": "2021-09-09T04:16:04.446007Z",
     "shell.execute_reply.started": "2021-09-09T04:16:04.427385Z"
    },
    "tags": []
   },
   "outputs": [
    {
     "name": "stdout",
     "output_type": "stream",
     "text": [
      "Accuracy: 0.98\n"
     ]
    }
   ],
   "source": [
    "print('Accuracy: %.2f' % ppn.score(X_test_std, y_test))"
   ]
  },
  {
   "cell_type": "code",
   "execution_count": 24,
   "id": "6d50ad30-086b-4c57-b563-6c8c6072a56d",
   "metadata": {
    "execution": {
     "iopub.execute_input": "2021-09-09T04:17:17.075342Z",
     "iopub.status.busy": "2021-09-09T04:17:17.075342Z",
     "iopub.status.idle": "2021-09-09T04:17:17.607148Z",
     "shell.execute_reply": "2021-09-09T04:17:17.606162Z",
     "shell.execute_reply.started": "2021-09-09T04:17:17.075342Z"
    },
    "tags": []
   },
   "outputs": [],
   "source": [
    "from matplotlib.colors import ListedColormap\n",
    "import matplotlib.pyplot as plt"
   ]
  },
  {
   "cell_type": "code",
   "execution_count": 55,
   "id": "ff59b3bf-9a3d-4f51-ac71-00ad380aecfb",
   "metadata": {
    "execution": {
     "iopub.execute_input": "2021-09-09T04:32:13.677288Z",
     "iopub.status.busy": "2021-09-09T04:32:13.676288Z",
     "iopub.status.idle": "2021-09-09T04:32:13.712599Z",
     "shell.execute_reply": "2021-09-09T04:32:13.710743Z",
     "shell.execute_reply.started": "2021-09-09T04:32:13.677288Z"
    },
    "tags": []
   },
   "outputs": [],
   "source": [
    "def plot_decision_regions(X, y, classifier, test_idx=None,\n",
    "                         resolution=0.02):\n",
    "    # setup marker generator and color map\n",
    "    markers = ('s', 'x', 'o', '^', 'v')\n",
    "    colors = ('red', 'blue', 'lightgreen', 'gray', 'cyan')\n",
    "    cmap = ListedColormap(colors[:len(np.unique(y))])\n",
    "    \n",
    "    # plot the decision surface\n",
    "    x1_min, x1_max = X[:, 0].min() - 1, X[:, 0].max() + 1\n",
    "    x2_min, x2_max = X[:, 1].min() - 1, X[:, 1].max() + 1\n",
    "    xx1, xx2 = np.meshgrid(np.arange(x1_min, x1_max, resolution),\n",
    "                          np.arange(x2_min, x2_max, resolution))\n",
    "    Z = classifier.predict(np.array([xx1.ravel(), xx2.ravel()]).T)\n",
    "    Z = Z.reshape(xx1.shape)\n",
    "    plt.contourf(xx1, xx2, Z, alpha=0.3, cmap=cmap)\n",
    "    plt.xlim(xx1.min(), xx1.max())\n",
    "    plt.ylim(xx2.min(), xx2.max())\n",
    "    \n",
    "    for idx, cl in enumerate(np.unique(y)):\n",
    "        plt.scatter(x=X[y == cl, 0], y=X[y == cl, 1],\n",
    "                   alpha=0.8, c=colors[idx],\n",
    "                   marker=markers[idx], label=cl,\n",
    "                   edgecolor='black')\n",
    "    \n",
    "    # highlight test samples\n",
    "    if test_idx:\n",
    "        # plot all samples\n",
    "        X_test, y_test = X[test_idx, :], y[test_idx]\n",
    "        plt.scatter(X_test[:, 0], X_test[:, 1],\n",
    "                   edgecolor='black', alpha=0.5,\n",
    "                   linewidth=1, marker='o',\n",
    "                   s=100, label='test set')"
   ]
  },
  {
   "cell_type": "code",
   "execution_count": 29,
   "id": "e9724b4b-269f-4121-b575-00755d866648",
   "metadata": {
    "execution": {
     "iopub.execute_input": "2021-09-09T04:25:34.969401Z",
     "iopub.status.busy": "2021-09-09T04:25:34.969401Z",
     "iopub.status.idle": "2021-09-09T04:25:34.984741Z",
     "shell.execute_reply": "2021-09-09T04:25:34.983756Z",
     "shell.execute_reply.started": "2021-09-09T04:25:34.969401Z"
    },
    "tags": []
   },
   "outputs": [],
   "source": [
    "X_combined_std = np.vstack((X_train_std, X_test_std))\n",
    "y_combined = np.hstack((y_train, y_test))"
   ]
  },
  {
   "cell_type": "code",
   "execution_count": 56,
   "id": "28cee6aa-6eef-4fdf-9bf3-6ded8952d0d5",
   "metadata": {
    "execution": {
     "iopub.execute_input": "2021-09-09T04:32:14.829906Z",
     "iopub.status.busy": "2021-09-09T04:32:14.829906Z",
     "iopub.status.idle": "2021-09-09T04:32:15.015387Z",
     "shell.execute_reply": "2021-09-09T04:32:15.014447Z",
     "shell.execute_reply.started": "2021-09-09T04:32:14.829906Z"
    },
    "tags": []
   },
   "outputs": [
    {
     "name": "stderr",
     "output_type": "stream",
     "text": [
      "<ipython-input-55-80fc414f3d67>:20: UserWarning: You passed a edgecolor/edgecolors ('black') for an unfilled marker ('x').  Matplotlib is ignoring the edgecolor in favor of the facecolor.  This behavior may change in the future.\n",
      "  plt.scatter(x=X[y == cl, 0], y=X[y == cl, 1],\n"
     ]
    },
    {
     "data": {
      "image/png": "[encoded data removed]",
      "text/plain": [
       "<Figure size 640x480 with 1 Axes>"
      ]
     },
     "metadata": {},
     "output_type": "display_data"
    }
   ],
   "source": [
    "plot_decision_regions(X=X_combined_std,\n",
    "                     y=y_combined,\n",
    "                     classifier=ppn,\n",
    "                     test_idx=range(105, 150)\n",
    "                     )\n",
    "plt.xlabel('petal length [standardized]')\n",
    "plt.ylabel('petal width [standardized]')\n",
    "plt.legend(loc='upper left')\n",
    "plt.show()"
   ]
  },
  {
   "cell_type": "code",
   "execution_count": 53,
   "id": "7ee94070-0e60-40b8-8e8b-0b197f50ac4c",
   "metadata": {
    "execution": {
     "iopub.execute_input": "2021-09-09T04:32:00.356839Z",
     "iopub.status.busy": "2021-09-09T04:32:00.355842Z",
     "iopub.status.idle": "2021-09-09T04:32:00.367394Z",
     "shell.execute_reply": "2021-09-09T04:32:00.366390Z",
     "shell.execute_reply.started": "2021-09-09T04:32:00.356839Z"
    },
    "tags": []
   },
   "outputs": [
    {
     "name": "stdout",
     "output_type": "stream",
     "text": [
      "Missclasified train: 6\n"
     ]
    }
   ],
   "source": [
    "print('Missclasified train:', (ppn.predict(X_train_std) != y_train).sum())"
   ]
  },
  {
   "cell_type": "code",
   "execution_count": 54,
   "id": "88e2128c-bd37-4854-8db5-913f94011948",
   "metadata": {
    "execution": {
     "iopub.execute_input": "2021-09-09T04:32:01.226588Z",
     "iopub.status.busy": "2021-09-09T04:32:01.225584Z",
     "iopub.status.idle": "2021-09-09T04:32:01.237568Z",
     "shell.execute_reply": "2021-09-09T04:32:01.236392Z",
     "shell.execute_reply.started": "2021-09-09T04:32:01.226588Z"
    },
    "tags": []
   },
   "outputs": [
    {
     "name": "stdout",
     "output_type": "stream",
     "text": [
      "Missclasified test: 1\n"
     ]
    }
   ],
   "source": [
    "print('Missclasified test:', (ppn.predict(X_test_std) != y_test).sum())"
   ]
  },
  {
   "cell_type": "markdown",
   "id": "6225f61d-e1be-49c2-a796-fbb7cc41e4dc",
   "metadata": {},
   "source": [
    "Perceptron algorithm never converges on datasets that arent't perfectly linearly separable, which is why the use of perceptron algorithm is typically not recommended in practice."
   ]
  }
 ],
 "metadata": {
  "kernelspec": {
   "display_name": "Python 3",
   "language": "python",
   "name": "python3"
  },
  "language_info": {
   "codemirror_mode": {
    "name": "ipython",
    "version": 3
   },
   "file_extension": ".py",
   "mimetype": "text/x-python",
   "name": "python",
   "nbconvert_exporter": "python",
   "pygments_lexer": "ipython3",
   "version": "3.8.11"
  }
 },
 "nbformat": 4,
 "nbformat_minor": 5
}
