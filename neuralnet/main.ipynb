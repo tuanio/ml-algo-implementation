{
 "cells": [
  {
   "cell_type": "code",
   "execution_count": 9,
   "id": "9a23013a-e7b8-4902-ba11-17e37848e1cc",
   "metadata": {},
   "outputs": [],
   "source": [
    "import sys\n",
    "import numpy as np\n",
    "import matplotlib.pyplot as plt"
   ]
  },
  {
   "cell_type": "code",
   "execution_count": 5,
   "id": "13ea562f-77e0-406e-8068-e7874ac94977",
   "metadata": {},
   "outputs": [],
   "source": [
    "Xtrain, ytrain, Xtest, ytest = np.load('mnist_scaled.npz').values()"
   ]
  },
  {
   "cell_type": "code",
   "execution_count": 8,
   "id": "daab35e8-5553-4dd5-8091-59bc3207ffee",
   "metadata": {},
   "outputs": [
    {
     "data": {
      "text/plain": [
       "((60000, 784), (60000,), (10000, 784), (10000,))"
      ]
     },
     "execution_count": 8,
     "metadata": {},
     "output_type": "execute_result"
    }
   ],
   "source": [
    "Xtrain.shape, ytrain.shape, Xtest.shape, ytest.shape"
   ]
  },
  {
   "cell_type": "code",
   "execution_count": 14,
   "id": "6831564f-bc1d-45f3-8e36-178063090e9f",
   "metadata": {},
   "outputs": [
    {
     "data": {
      "text/plain": [
       "array([[ 1., -1., -1., ..., -1., -1., -1.],\n",
       "       [ 1., -1., -1., ..., -1., -1., -1.],\n",
       "       [ 1., -1., -1., ..., -1., -1., -1.],\n",
       "       ...,\n",
       "       [ 1., -1., -1., ..., -1., -1., -1.],\n",
       "       [ 1., -1., -1., ..., -1., -1., -1.],\n",
       "       [ 1., -1., -1., ..., -1., -1., -1.]])"
      ]
     },
     "execution_count": 14,
     "metadata": {},
     "output_type": "execute_result"
    }
   ],
   "source": [
    "bias = np.ones((Xtrain.shape[0], 1))\n",
    "np.c_[bias, Xtrain]"
   ]
  },
  {
   "cell_type": "code",
   "execution_count": 26,
   "id": "f78141b4-deb6-4151-a3ba-2f21c42304a4",
   "metadata": {},
   "outputs": [],
   "source": [
    "from sklearn.preprocessing import OneHotEncoder"
   ]
  },
  {
   "cell_type": "code",
   "execution_count": 41,
   "id": "dd089b91-429a-4584-9e59-f604a7ad7902",
   "metadata": {},
   "outputs": [],
   "source": [
    "y = np.array([0, 1, 2, 0, 2, 1, 0, 2]).reshape(-1, 1)\n",
    "y = OneHotEncoder().fit_transform(y).toarray()"
   ]
  },
  {
   "cell_type": "code",
   "execution_count": 43,
   "id": "49301092-f04d-46ba-99ad-b808fd423f70",
   "metadata": {},
   "outputs": [],
   "source": [
    "k = np.random.normal(size=y.shape)"
   ]
  },
  {
   "cell_type": "code",
   "execution_count": null,
   "id": "91f60e2a-4c41-45c5-9ec3-77765cead107",
   "metadata": {},
   "outputs": [],
   "source": []
  },
  {
   "cell_type": "code",
   "execution_count": 52,
   "id": "8a9a5b88-ae82-4c27-beb9-0f6cb3e40a68",
   "metadata": {},
   "outputs": [
    {
     "data": {
      "text/plain": [
       "array([[ 1.74674023, -0.        ,  0.        ],\n",
       "       [-0.        ,  0.20075361, -0.        ],\n",
       "       [-0.        , -0.        , -1.24809698],\n",
       "       [ 1.23182103, -0.        , -0.        ],\n",
       "       [-0.        , -0.        , -0.51522125],\n",
       "       [-0.        , -1.17856005,  0.        ],\n",
       "       [ 2.40624984, -0.        ,  0.        ],\n",
       "       [ 0.        ,  0.        , -0.77423428]])"
      ]
     },
     "execution_count": 52,
     "metadata": {},
     "output_type": "execute_result"
    }
   ],
   "source": [
    "y * k"
   ]
  },
  {
   "cell_type": "code",
   "execution_count": 57,
   "id": "b1d3c135-9bff-4b3c-a384-457354ba28bc",
   "metadata": {},
   "outputs": [
    {
     "data": {
      "text/plain": [
       "array([[1., 0., 0.],\n",
       "       [0., 1., 0.],\n",
       "       [0., 0., 1.],\n",
       "       [1., 0., 0.],\n",
       "       [0., 0., 1.],\n",
       "       [0., 1., 0.],\n",
       "       [1., 0., 0.],\n",
       "       [0., 0., 1.]])"
      ]
     },
     "execution_count": 57,
     "metadata": {},
     "output_type": "execute_result"
    }
   ],
   "source": [
    "y"
   ]
  },
  {
   "cell_type": "code",
   "execution_count": 56,
   "id": "891b6427-50fd-49d1-b53e-0a965a3d905e",
   "metadata": {},
   "outputs": [
    {
     "data": {
      "text/plain": [
       "array([0, 1, 2, 0, 2, 1, 0, 2], dtype=int64)"
      ]
     },
     "execution_count": 56,
     "metadata": {},
     "output_type": "execute_result"
    }
   ],
   "source": [
    "np.argmax(y, axis=1)"
   ]
  },
  {
   "cell_type": "code",
   "execution_count": 58,
   "id": "033ac465-25b6-4847-8930-e86908229512",
   "metadata": {},
   "outputs": [
    {
     "data": {
      "text/plain": [
       "array([[1., 0., 0.],\n",
       "       [0., 1., 0.],\n",
       "       [0., 0., 1.],\n",
       "       [1., 0., 0.],\n",
       "       [0., 0., 1.],\n",
       "       [0., 1., 0.],\n",
       "       [1., 0., 0.],\n",
       "       [0., 0., 1.]])"
      ]
     },
     "execution_count": 58,
     "metadata": {},
     "output_type": "execute_result"
    }
   ],
   "source": [
    "y"
   ]
  },
  {
   "cell_type": "code",
   "execution_count": 22,
   "id": "f414894f-02ca-422e-a4cc-836ff5e6f91f",
   "metadata": {},
   "outputs": [
    {
     "data": {
      "text/plain": [
       "array([-0.        ,  0.22314355, -0.        ])"
      ]
     },
     "execution_count": 22,
     "metadata": {},
     "output_type": "execute_result"
    }
   ],
   "source": [
    "y = np.array([0, 1, 0])\n",
    "- y * np.log([0.05, 0.80, 0.15])"
   ]
  },
  {
   "cell_type": "code",
   "execution_count": null,
   "id": "c81bdd65-8850-440d-a8c8-314c7c570651",
   "metadata": {},
   "outputs": [],
   "source": [
    "class NeuralNetMLP(object):\n",
    "    "
   ]
  }
 ],
 "metadata": {
  "kernelspec": {
   "display_name": "Python 3",
   "language": "python",
   "name": "python3"
  },
  "language_info": {
   "codemirror_mode": {
    "name": "ipython",
    "version": 3
   },
   "file_extension": ".py",
   "mimetype": "text/x-python",
   "name": "python",
   "nbconvert_exporter": "python",
   "pygments_lexer": "ipython3",
   "version": "3.8.8"
  }
 },
 "nbformat": 4,
 "nbformat_minor": 5
}
